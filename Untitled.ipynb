{
 "cells": [
  {
   "cell_type": "code",
   "execution_count": 1,
   "metadata": {},
   "outputs": [],
   "source": [
    "import pandas as pd\n",
    "import numpy as np\n",
    "\n",
    "from scipy.sparse import lil_matrix\n",
    "from scipy.sparse.linalg import svds\n",
    "\n"
   ]
  },
  {
   "cell_type": "code",
   "execution_count": 130,
   "metadata": {},
   "outputs": [],
   "source": [
    "A = lil_matrix((671, 45466))"
   ]
  },
  {
   "cell_type": "code",
   "execution_count": 131,
   "metadata": {},
   "outputs": [],
   "source": [
    "ratings = pd.read_csv('movies/ratings_small.csv')\n",
    "ratings.describe()\n",
    "\n",
    "movies = pd.read_csv('movies/movies_metadata.csv')\n",
    "ratings.rename(columns={'movieId': 'id'}, inplace = True)\n",
    "ratings['id'] = ratings['id'].astype(str)\n",
    "movies['id'] = movies['id'].astype(str)\n",
    "movies = movies[movies.id != '1997-08-20']\n",
    "movies = movies[movies.id != '2012-09-29']\n",
    "movies = movies[movies.id != '2012-09-29']\n",
    "movies = movies[movies.id != '2014-01-01']\n",
    "movies.id = movies.id.astype(int)\n",
    "\n",
    "mids = {}\n",
    "whichMid = {}\n",
    "for i, mid in enumerate(movies.id):\n",
    "    mids[mid] = i\n",
    "    whichMid[i] = mid"
   ]
  },
  {
   "cell_type": "code",
   "execution_count": 132,
   "metadata": {},
   "outputs": [],
   "source": [
    "for i in range(len(ratings)):\n",
    "    rate = ratings.iloc[i]\n",
    "    uid = int(rate['userId'] + 0.1)\n",
    "    mid = int(rate['id'])\n",
    "    if mid in mids:\n",
    "        rating = rate['rating']\n",
    "        A[uid-1,mids[mid]] = rating - 2.5"
   ]
  },
  {
   "cell_type": "code",
   "execution_count": null,
   "metadata": {},
   "outputs": [],
   "source": []
  },
  {
   "cell_type": "code",
   "execution_count": 133,
   "metadata": {},
   "outputs": [],
   "source": [
    "u, s, vt = svds(A, k=100) # k is the number of factors"
   ]
  },
  {
   "cell_type": "code",
   "execution_count": null,
   "metadata": {},
   "outputs": [],
   "source": []
  },
  {
   "cell_type": "code",
   "execution_count": 134,
   "metadata": {},
   "outputs": [
    {
     "data": {
      "text/plain": [
       "(671, 100)"
      ]
     },
     "execution_count": 134,
     "metadata": {},
     "output_type": "execute_result"
    }
   ],
   "source": [
    "u.shape"
   ]
  },
  {
   "cell_type": "code",
   "execution_count": 135,
   "metadata": {},
   "outputs": [
    {
     "data": {
      "text/html": [
       "<div>\n",
       "<style scoped>\n",
       "    .dataframe tbody tr th:only-of-type {\n",
       "        vertical-align: middle;\n",
       "    }\n",
       "\n",
       "    .dataframe tbody tr th {\n",
       "        vertical-align: top;\n",
       "    }\n",
       "\n",
       "    .dataframe thead th {\n",
       "        text-align: right;\n",
       "    }\n",
       "</style>\n",
       "<table border=\"1\" class=\"dataframe\">\n",
       "  <thead>\n",
       "    <tr style=\"text-align: right;\">\n",
       "      <th></th>\n",
       "      <th>id</th>\n",
       "      <th>0</th>\n",
       "      <th>1</th>\n",
       "      <th>2</th>\n",
       "      <th>3</th>\n",
       "      <th>4</th>\n",
       "      <th>5</th>\n",
       "      <th>6</th>\n",
       "      <th>7</th>\n",
       "      <th>8</th>\n",
       "      <th>...</th>\n",
       "      <th>90</th>\n",
       "      <th>91</th>\n",
       "      <th>92</th>\n",
       "      <th>93</th>\n",
       "      <th>94</th>\n",
       "      <th>95</th>\n",
       "      <th>96</th>\n",
       "      <th>97</th>\n",
       "      <th>98</th>\n",
       "      <th>99</th>\n",
       "    </tr>\n",
       "  </thead>\n",
       "  <tbody>\n",
       "    <tr>\n",
       "      <th>0</th>\n",
       "      <td>1</td>\n",
       "      <td>0.003132</td>\n",
       "      <td>0.003223</td>\n",
       "      <td>0.000934</td>\n",
       "      <td>0.002276</td>\n",
       "      <td>0.002107</td>\n",
       "      <td>-0.003843</td>\n",
       "      <td>-0.002037</td>\n",
       "      <td>-0.005630</td>\n",
       "      <td>-0.004938</td>\n",
       "      <td>...</td>\n",
       "      <td>0.000889</td>\n",
       "      <td>-0.000541</td>\n",
       "      <td>0.000592</td>\n",
       "      <td>-0.002518</td>\n",
       "      <td>-0.002487</td>\n",
       "      <td>0.000798</td>\n",
       "      <td>-0.000222</td>\n",
       "      <td>0.000316</td>\n",
       "      <td>-0.000045</td>\n",
       "      <td>0.000078</td>\n",
       "    </tr>\n",
       "    <tr>\n",
       "      <th>1</th>\n",
       "      <td>2</td>\n",
       "      <td>-0.025469</td>\n",
       "      <td>-0.016363</td>\n",
       "      <td>-0.020040</td>\n",
       "      <td>-0.076971</td>\n",
       "      <td>-0.029283</td>\n",
       "      <td>-0.014799</td>\n",
       "      <td>-0.007162</td>\n",
       "      <td>-0.000113</td>\n",
       "      <td>-0.009770</td>\n",
       "      <td>...</td>\n",
       "      <td>0.031648</td>\n",
       "      <td>-0.018828</td>\n",
       "      <td>-0.000833</td>\n",
       "      <td>-0.024229</td>\n",
       "      <td>0.019778</td>\n",
       "      <td>-0.020292</td>\n",
       "      <td>0.049910</td>\n",
       "      <td>-0.057914</td>\n",
       "      <td>-0.029866</td>\n",
       "      <td>-0.023362</td>\n",
       "    </tr>\n",
       "    <tr>\n",
       "      <th>2</th>\n",
       "      <td>3</td>\n",
       "      <td>0.017651</td>\n",
       "      <td>0.023091</td>\n",
       "      <td>0.006512</td>\n",
       "      <td>0.011756</td>\n",
       "      <td>-0.040945</td>\n",
       "      <td>0.012291</td>\n",
       "      <td>-0.008340</td>\n",
       "      <td>0.009670</td>\n",
       "      <td>-0.028885</td>\n",
       "      <td>...</td>\n",
       "      <td>-0.015419</td>\n",
       "      <td>-0.046960</td>\n",
       "      <td>-0.005527</td>\n",
       "      <td>0.008788</td>\n",
       "      <td>0.008379</td>\n",
       "      <td>-0.013874</td>\n",
       "      <td>0.017975</td>\n",
       "      <td>0.019594</td>\n",
       "      <td>-0.020816</td>\n",
       "      <td>-0.018695</td>\n",
       "    </tr>\n",
       "    <tr>\n",
       "      <th>3</th>\n",
       "      <td>4</td>\n",
       "      <td>-0.018354</td>\n",
       "      <td>-0.043039</td>\n",
       "      <td>0.051559</td>\n",
       "      <td>0.036711</td>\n",
       "      <td>-0.207545</td>\n",
       "      <td>-0.103968</td>\n",
       "      <td>-0.010786</td>\n",
       "      <td>-0.026071</td>\n",
       "      <td>0.016754</td>\n",
       "      <td>...</td>\n",
       "      <td>0.099938</td>\n",
       "      <td>0.045551</td>\n",
       "      <td>-0.023049</td>\n",
       "      <td>-0.058240</td>\n",
       "      <td>-0.114926</td>\n",
       "      <td>0.021572</td>\n",
       "      <td>-0.124594</td>\n",
       "      <td>-0.054443</td>\n",
       "      <td>0.017450</td>\n",
       "      <td>-0.069908</td>\n",
       "    </tr>\n",
       "    <tr>\n",
       "      <th>4</th>\n",
       "      <td>5</td>\n",
       "      <td>0.001737</td>\n",
       "      <td>-0.042639</td>\n",
       "      <td>0.081880</td>\n",
       "      <td>-0.001116</td>\n",
       "      <td>0.042636</td>\n",
       "      <td>-0.019872</td>\n",
       "      <td>-0.006335</td>\n",
       "      <td>-0.063438</td>\n",
       "      <td>0.002309</td>\n",
       "      <td>...</td>\n",
       "      <td>0.040674</td>\n",
       "      <td>0.035319</td>\n",
       "      <td>-0.031549</td>\n",
       "      <td>0.011921</td>\n",
       "      <td>0.063513</td>\n",
       "      <td>0.040858</td>\n",
       "      <td>-0.023762</td>\n",
       "      <td>-0.014788</td>\n",
       "      <td>-0.025188</td>\n",
       "      <td>-0.025913</td>\n",
       "    </tr>\n",
       "  </tbody>\n",
       "</table>\n",
       "<p>5 rows × 101 columns</p>\n",
       "</div>"
      ],
      "text/plain": [
       "   id         0         1         2         3         4         5         6  \\\n",
       "0   1  0.003132  0.003223  0.000934  0.002276  0.002107 -0.003843 -0.002037   \n",
       "1   2 -0.025469 -0.016363 -0.020040 -0.076971 -0.029283 -0.014799 -0.007162   \n",
       "2   3  0.017651  0.023091  0.006512  0.011756 -0.040945  0.012291 -0.008340   \n",
       "3   4 -0.018354 -0.043039  0.051559  0.036711 -0.207545 -0.103968 -0.010786   \n",
       "4   5  0.001737 -0.042639  0.081880 -0.001116  0.042636 -0.019872 -0.006335   \n",
       "\n",
       "          7         8  ...        90        91        92        93        94  \\\n",
       "0 -0.005630 -0.004938  ...  0.000889 -0.000541  0.000592 -0.002518 -0.002487   \n",
       "1 -0.000113 -0.009770  ...  0.031648 -0.018828 -0.000833 -0.024229  0.019778   \n",
       "2  0.009670 -0.028885  ... -0.015419 -0.046960 -0.005527  0.008788  0.008379   \n",
       "3 -0.026071  0.016754  ...  0.099938  0.045551 -0.023049 -0.058240 -0.114926   \n",
       "4 -0.063438  0.002309  ...  0.040674  0.035319 -0.031549  0.011921  0.063513   \n",
       "\n",
       "         95        96        97        98        99  \n",
       "0  0.000798 -0.000222  0.000316 -0.000045  0.000078  \n",
       "1 -0.020292  0.049910 -0.057914 -0.029866 -0.023362  \n",
       "2 -0.013874  0.017975  0.019594 -0.020816 -0.018695  \n",
       "3  0.021572 -0.124594 -0.054443  0.017450 -0.069908  \n",
       "4  0.040858 -0.023762 -0.014788 -0.025188 -0.025913  \n",
       "\n",
       "[5 rows x 101 columns]"
      ]
     },
     "execution_count": 135,
     "metadata": {},
     "output_type": "execute_result"
    }
   ],
   "source": [
    "udf = pd.DataFrame(u)\n",
    "udf['id'] = udf.index + 1\n",
    "cols = list(udf.columns)\n",
    "cols.pop()\n",
    "cols = ['id'] + cols\n",
    "udf = udf[cols]\n",
    "udf.head()"
   ]
  },
  {
   "cell_type": "code",
   "execution_count": 136,
   "metadata": {},
   "outputs": [],
   "source": [
    "udf.to_csv('uvecs1.csv', header=None, index=False)"
   ]
  },
  {
   "cell_type": "code",
   "execution_count": null,
   "metadata": {},
   "outputs": [],
   "source": []
  },
  {
   "cell_type": "code",
   "execution_count": 137,
   "metadata": {},
   "outputs": [
    {
     "data": {
      "text/html": [
       "<div>\n",
       "<style scoped>\n",
       "    .dataframe tbody tr th:only-of-type {\n",
       "        vertical-align: middle;\n",
       "    }\n",
       "\n",
       "    .dataframe tbody tr th {\n",
       "        vertical-align: top;\n",
       "    }\n",
       "\n",
       "    .dataframe thead th {\n",
       "        text-align: right;\n",
       "    }\n",
       "</style>\n",
       "<table border=\"1\" class=\"dataframe\">\n",
       "  <thead>\n",
       "    <tr style=\"text-align: right;\">\n",
       "      <th></th>\n",
       "      <th>id</th>\n",
       "      <th>0</th>\n",
       "      <th>1</th>\n",
       "      <th>2</th>\n",
       "      <th>3</th>\n",
       "      <th>4</th>\n",
       "      <th>5</th>\n",
       "      <th>6</th>\n",
       "      <th>7</th>\n",
       "      <th>8</th>\n",
       "      <th>...</th>\n",
       "      <th>90</th>\n",
       "      <th>91</th>\n",
       "      <th>92</th>\n",
       "      <th>93</th>\n",
       "      <th>94</th>\n",
       "      <th>95</th>\n",
       "      <th>96</th>\n",
       "      <th>97</th>\n",
       "      <th>98</th>\n",
       "      <th>99</th>\n",
       "    </tr>\n",
       "  </thead>\n",
       "  <tbody>\n",
       "    <tr>\n",
       "      <th>0</th>\n",
       "      <td>0</td>\n",
       "      <td>0.0</td>\n",
       "      <td>0.0</td>\n",
       "      <td>0.0</td>\n",
       "      <td>0.0</td>\n",
       "      <td>0.0</td>\n",
       "      <td>0.0</td>\n",
       "      <td>0.0</td>\n",
       "      <td>0.0</td>\n",
       "      <td>0.0</td>\n",
       "      <td>...</td>\n",
       "      <td>0.0</td>\n",
       "      <td>0.0</td>\n",
       "      <td>0.0</td>\n",
       "      <td>0.0</td>\n",
       "      <td>0.0</td>\n",
       "      <td>0.0</td>\n",
       "      <td>0.0</td>\n",
       "      <td>0.0</td>\n",
       "      <td>0.0</td>\n",
       "      <td>0.0</td>\n",
       "    </tr>\n",
       "    <tr>\n",
       "      <th>1</th>\n",
       "      <td>1</td>\n",
       "      <td>0.0</td>\n",
       "      <td>0.0</td>\n",
       "      <td>0.0</td>\n",
       "      <td>0.0</td>\n",
       "      <td>0.0</td>\n",
       "      <td>0.0</td>\n",
       "      <td>0.0</td>\n",
       "      <td>0.0</td>\n",
       "      <td>0.0</td>\n",
       "      <td>...</td>\n",
       "      <td>0.0</td>\n",
       "      <td>0.0</td>\n",
       "      <td>0.0</td>\n",
       "      <td>0.0</td>\n",
       "      <td>0.0</td>\n",
       "      <td>0.0</td>\n",
       "      <td>0.0</td>\n",
       "      <td>0.0</td>\n",
       "      <td>0.0</td>\n",
       "      <td>0.0</td>\n",
       "    </tr>\n",
       "    <tr>\n",
       "      <th>2</th>\n",
       "      <td>2</td>\n",
       "      <td>0.0</td>\n",
       "      <td>0.0</td>\n",
       "      <td>0.0</td>\n",
       "      <td>0.0</td>\n",
       "      <td>0.0</td>\n",
       "      <td>0.0</td>\n",
       "      <td>0.0</td>\n",
       "      <td>0.0</td>\n",
       "      <td>0.0</td>\n",
       "      <td>...</td>\n",
       "      <td>0.0</td>\n",
       "      <td>0.0</td>\n",
       "      <td>0.0</td>\n",
       "      <td>0.0</td>\n",
       "      <td>0.0</td>\n",
       "      <td>0.0</td>\n",
       "      <td>0.0</td>\n",
       "      <td>0.0</td>\n",
       "      <td>0.0</td>\n",
       "      <td>0.0</td>\n",
       "    </tr>\n",
       "    <tr>\n",
       "      <th>3</th>\n",
       "      <td>3</td>\n",
       "      <td>0.0</td>\n",
       "      <td>0.0</td>\n",
       "      <td>0.0</td>\n",
       "      <td>0.0</td>\n",
       "      <td>0.0</td>\n",
       "      <td>0.0</td>\n",
       "      <td>0.0</td>\n",
       "      <td>0.0</td>\n",
       "      <td>0.0</td>\n",
       "      <td>...</td>\n",
       "      <td>0.0</td>\n",
       "      <td>0.0</td>\n",
       "      <td>0.0</td>\n",
       "      <td>0.0</td>\n",
       "      <td>0.0</td>\n",
       "      <td>0.0</td>\n",
       "      <td>0.0</td>\n",
       "      <td>0.0</td>\n",
       "      <td>0.0</td>\n",
       "      <td>0.0</td>\n",
       "    </tr>\n",
       "    <tr>\n",
       "      <th>4</th>\n",
       "      <td>4</td>\n",
       "      <td>0.0</td>\n",
       "      <td>0.0</td>\n",
       "      <td>0.0</td>\n",
       "      <td>0.0</td>\n",
       "      <td>0.0</td>\n",
       "      <td>0.0</td>\n",
       "      <td>0.0</td>\n",
       "      <td>0.0</td>\n",
       "      <td>0.0</td>\n",
       "      <td>...</td>\n",
       "      <td>0.0</td>\n",
       "      <td>0.0</td>\n",
       "      <td>0.0</td>\n",
       "      <td>0.0</td>\n",
       "      <td>0.0</td>\n",
       "      <td>0.0</td>\n",
       "      <td>0.0</td>\n",
       "      <td>0.0</td>\n",
       "      <td>0.0</td>\n",
       "      <td>0.0</td>\n",
       "    </tr>\n",
       "  </tbody>\n",
       "</table>\n",
       "<p>5 rows × 101 columns</p>\n",
       "</div>"
      ],
      "text/plain": [
       "   id    0    1    2    3    4    5    6    7    8  ...   90   91   92   93  \\\n",
       "0   0  0.0  0.0  0.0  0.0  0.0  0.0  0.0  0.0  0.0  ...  0.0  0.0  0.0  0.0   \n",
       "1   1  0.0  0.0  0.0  0.0  0.0  0.0  0.0  0.0  0.0  ...  0.0  0.0  0.0  0.0   \n",
       "2   2  0.0  0.0  0.0  0.0  0.0  0.0  0.0  0.0  0.0  ...  0.0  0.0  0.0  0.0   \n",
       "3   3  0.0  0.0  0.0  0.0  0.0  0.0  0.0  0.0  0.0  ...  0.0  0.0  0.0  0.0   \n",
       "4   4  0.0  0.0  0.0  0.0  0.0  0.0  0.0  0.0  0.0  ...  0.0  0.0  0.0  0.0   \n",
       "\n",
       "    94   95   96   97   98   99  \n",
       "0  0.0  0.0  0.0  0.0  0.0  0.0  \n",
       "1  0.0  0.0  0.0  0.0  0.0  0.0  \n",
       "2  0.0  0.0  0.0  0.0  0.0  0.0  \n",
       "3  0.0  0.0  0.0  0.0  0.0  0.0  \n",
       "4  0.0  0.0  0.0  0.0  0.0  0.0  \n",
       "\n",
       "[5 rows x 101 columns]"
      ]
     },
     "execution_count": 137,
     "metadata": {},
     "output_type": "execute_result"
    }
   ],
   "source": [
    "v = vt.transpose()\n",
    "mdf = pd.DataFrame(v)\n",
    "mdf['id'] = mdf.index\n",
    "cols = list(mdf.columns)\n",
    "cols.pop()\n",
    "cols = ['id'] + cols\n",
    "mdf = mdf[cols]\n",
    "mdf.head()"
   ]
  },
  {
   "cell_type": "code",
   "execution_count": 138,
   "metadata": {},
   "outputs": [],
   "source": [
    "mdf.to_csv('mvecs1.csv', header=None, index=False)"
   ]
  },
  {
   "cell_type": "code",
   "execution_count": 144,
   "metadata": {},
   "outputs": [
    {
     "name": "stdout",
     "output_type": "stream",
     "text": [
      "45463 45433\n"
     ]
    }
   ],
   "source": [
    "print(len(whichMid), len(mids))\n"
   ]
  },
  {
   "cell_type": "code",
   "execution_count": 139,
   "metadata": {},
   "outputs": [],
   "source": [
    "def cs(a,  b):\n",
    "    return (a * b).sum()\n",
    "# cs(u[0], v[1128])\n",
    "# # rating 2.0\n",
    "# cs(u[0], v[1171])\n",
    "# # rating 4.0"
   ]
  },
  {
   "cell_type": "code",
   "execution_count": 163,
   "metadata": {},
   "outputs": [],
   "source": [
    "mdf = pd.read_csv('mvecs1.csv', header=None)\n",
    "result = np.array_split(mdf, 10)"
   ]
  },
  {
   "cell_type": "code",
   "execution_count": 164,
   "metadata": {},
   "outputs": [
    {
     "name": "stdout",
     "output_type": "stream",
     "text": [
      "(4547, 101)\n",
      "(4547, 101)\n",
      "(4547, 101)\n",
      "(4547, 101)\n",
      "(4547, 101)\n",
      "(4547, 101)\n",
      "(4546, 101)\n",
      "(4546, 101)\n",
      "(4546, 101)\n",
      "(4543, 101)\n"
     ]
    }
   ],
   "source": [
    "import json\n",
    "\n",
    "for i in range(len(result)):\n",
    "    result[i][0] = result[i][0].apply(lambda x: whichMid.get(x))\n",
    "    result[i] = result[i].dropna(axis=0)\n",
    "    result[i][0] = result[i][0].astype(int)\n",
    "    print(result[i].shape)\n",
    "    \n",
    "    result[i].to_csv('{}.csv'.format(i + 1), header=None, index=False)\n",
    "    cfg = {\n",
    "        'movie_vec': 'ads_worker/movie_vectors/{}.csv'.format(i + 1),\n",
    "        'movies': [\n",
    "            {\n",
    "                'id': j\n",
    "            } for j in result[i][0]\n",
    "        ]\n",
    "    }\n",
    "    with open('./ads_worker/config/{}.json'.format(i + 1), 'w') as f:\n",
    "        json.dump(cfg, f)"
   ]
  },
  {
   "cell_type": "code",
   "execution_count": null,
   "metadata": {},
   "outputs": [],
   "source": []
  },
  {
   "cell_type": "raw",
   "metadata": {},
   "source": []
  },
  {
   "cell_type": "code",
   "execution_count": 17,
   "metadata": {},
   "outputs": [
    {
     "data": {
      "text/plain": [
       "9066"
      ]
     },
     "execution_count": 17,
     "metadata": {},
     "output_type": "execute_result"
    }
   ],
   "source": [
    "# len(set(ratings['movieId']))"
   ]
  },
  {
   "cell_type": "code",
   "execution_count": null,
   "metadata": {},
   "outputs": [],
   "source": []
  },
  {
   "cell_type": "code",
   "execution_count": null,
   "metadata": {},
   "outputs": [],
   "source": []
  },
  {
   "cell_type": "code",
   "execution_count": null,
   "metadata": {},
   "outputs": [],
   "source": []
  },
  {
   "cell_type": "code",
   "execution_count": null,
   "metadata": {},
   "outputs": [],
   "source": []
  },
  {
   "cell_type": "code",
   "execution_count": null,
   "metadata": {},
   "outputs": [],
   "source": []
  },
  {
   "cell_type": "code",
   "execution_count": 128,
   "metadata": {},
   "outputs": [],
   "source": []
  },
  {
   "cell_type": "code",
   "execution_count": 129,
   "metadata": {},
   "outputs": [
    {
     "data": {
      "text/plain": [
       "0           862\n",
       "1          8844\n",
       "2         15602\n",
       "3         31357\n",
       "4         11862\n",
       "5           949\n",
       "6         11860\n",
       "7         45325\n",
       "8          9091\n",
       "9           710\n",
       "10         9087\n",
       "11        12110\n",
       "12        21032\n",
       "13        10858\n",
       "14         1408\n",
       "15          524\n",
       "16         4584\n",
       "17            5\n",
       "18         9273\n",
       "19        11517\n",
       "20         8012\n",
       "21         1710\n",
       "22         9691\n",
       "23        12665\n",
       "24          451\n",
       "25        16420\n",
       "26         9263\n",
       "27        17015\n",
       "28          902\n",
       "29        37557\n",
       "          ...  \n",
       "45436     45527\n",
       "45437    455661\n",
       "45438    327237\n",
       "45439     84710\n",
       "45440     39562\n",
       "45441     14008\n",
       "45442     44330\n",
       "45443     49279\n",
       "45444     44333\n",
       "45445     49277\n",
       "45446     49271\n",
       "45447     44324\n",
       "45448    122036\n",
       "45449     14885\n",
       "45450     49280\n",
       "45451    106807\n",
       "45452    276895\n",
       "45453    404604\n",
       "45454    420346\n",
       "45455     67179\n",
       "45456     84419\n",
       "45457    390959\n",
       "45458    289923\n",
       "45459    222848\n",
       "45460     30840\n",
       "45461    439050\n",
       "45462    111109\n",
       "45463     67758\n",
       "45464    227506\n",
       "45465    461257\n",
       "Name: id, Length: 45463, dtype: int64"
      ]
     },
     "execution_count": 129,
     "metadata": {},
     "output_type": "execute_result"
    }
   ],
   "source": []
  },
  {
   "cell_type": "code",
   "execution_count": 171,
   "metadata": {},
   "outputs": [
    {
     "data": {
      "text/plain": [
       "'[{\"id\": 28, \"name\": \"Action\"}]'"
      ]
     },
     "execution_count": 171,
     "metadata": {},
     "output_type": "execute_result"
    }
   ],
   "source": [
    "\n"
   ]
  },
  {
   "cell_type": "code",
   "execution_count": 172,
   "metadata": {},
   "outputs": [
    {
     "data": {
      "text/plain": [
       "[{'id': 28, 'name': 'Action'}]"
      ]
     },
     "execution_count": 172,
     "metadata": {},
     "output_type": "execute_result"
    }
   ],
   "source": [
    "json.loads(\"[{'id': 28, 'name': 'Action'}]\".replace('\\'', '\"'))"
   ]
  },
  {
   "cell_type": "code",
   "execution_count": null,
   "metadata": {},
   "outputs": [],
   "source": []
  },
  {
   "cell_type": "code",
   "execution_count": null,
   "metadata": {},
   "outputs": [],
   "source": []
  },
  {
   "cell_type": "code",
   "execution_count": null,
   "metadata": {},
   "outputs": [],
   "source": []
  }
 ],
 "metadata": {
  "kernelspec": {
   "display_name": "Python 3",
   "language": "python",
   "name": "python3"
  },
  "language_info": {
   "codemirror_mode": {
    "name": "ipython",
    "version": 3
   },
   "file_extension": ".py",
   "mimetype": "text/x-python",
   "name": "python",
   "nbconvert_exporter": "python",
   "pygments_lexer": "ipython3",
   "version": "3.7.2"
  }
 },
 "nbformat": 4,
 "nbformat_minor": 2
}
